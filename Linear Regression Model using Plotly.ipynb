{
 "cells": [
  {
   "cell_type": "code",
   "execution_count": null,
   "id": "12c6fbae",
   "metadata": {},
   "outputs": [
    {
     "name": "stdout",
     "output_type": "stream",
     "text": [
      "Dash is running on http://127.0.0.1:8050/\n",
      "\n",
      "Dash is running on http://127.0.0.1:8050/\n",
      "\n",
      " * Serving Flask app \"__main__\" (lazy loading)\n",
      " * Environment: production\n",
      "\u001b[31m   WARNING: This is a development server. Do not use it in a production deployment.\u001b[0m\n",
      "\u001b[2m   Use a production WSGI server instead.\u001b[0m\n",
      " * Debug mode: on\n"
     ]
    }
   ],
   "source": [
    "from dash import Dash, dcc, html, Input, Output\n",
    "from sklearn.model_selection import train_test_split\n",
    "from sklearn import linear_model, tree, neighbors\n",
    "import plotly.graph_objects as go\n",
    "import plotly.express as px\n",
    "import numpy as np\n",
    "\n",
    "app = Dash(__name__)\n",
    "\n",
    "models = {'Regression': linear_model.LinearRegression,\n",
    "          'Decision Tree': tree.DecisionTreeRegressor,\n",
    "          'k-NN': neighbors.KNeighborsRegressor}\n",
    "\n",
    "app.layout = html.Div([\n",
    "    html.H4(\"Predicting restaurant's revenue\"),\n",
    "    html.P(\"Select model:\"),\n",
    "    dcc.Dropdown(\n",
    "        id='dropdown',\n",
    "        options=[\"Regression\", \"Decision Tree\", \"k-NN\"],\n",
    "        value='Decision Tree',\n",
    "        clearable=False\n",
    "    ),\n",
    "    dcc.Graph(id=\"graph\"),\n",
    "])\n",
    "\n",
    "\n",
    "@app.callback(\n",
    "    Output(\"graph\", \"figure\"), \n",
    "    Input('dropdown', \"value\"))\n",
    "def train_and_display(name):\n",
    "    df = px.data.tips() # replace with your own data source\n",
    "    X = df.total_bill.values[:, None]\n",
    "    X_train, X_test, y_train, y_test = train_test_split(\n",
    "        X, df.tip, random_state=42)\n",
    "\n",
    "    model = models[name]()\n",
    "    model.fit(X_train, y_train)\n",
    "\n",
    "    x_range = np.linspace(X.min(), X.max(), 100)\n",
    "    y_range = model.predict(x_range.reshape(-1, 1))\n",
    "\n",
    "    fig = go.Figure([\n",
    "        go.Scatter(x=X_train.squeeze(), y=y_train, \n",
    "                   name='train', mode='markers'),\n",
    "        go.Scatter(x=X_test.squeeze(), y=y_test, \n",
    "                   name='test', mode='markers'),\n",
    "        go.Scatter(x=x_range, y=y_range, \n",
    "                   name='prediction')\n",
    "    ])\n",
    "    return fig\n",
    "#app.run(debug=True, use_reloader=False)\n",
    "app.run_server(debug=True,  use_reloader=False)"
   ]
  },
  {
   "cell_type": "code",
   "execution_count": null,
   "id": "b5375157",
   "metadata": {},
   "outputs": [],
   "source": []
  }
 ],
 "metadata": {
  "kernelspec": {
   "display_name": "Python 3 (ipykernel)",
   "language": "python",
   "name": "python3"
  },
  "language_info": {
   "codemirror_mode": {
    "name": "ipython",
    "version": 3
   },
   "file_extension": ".py",
   "mimetype": "text/x-python",
   "name": "python",
   "nbconvert_exporter": "python",
   "pygments_lexer": "ipython3",
   "version": "3.9.13"
  }
 },
 "nbformat": 4,
 "nbformat_minor": 5
}
