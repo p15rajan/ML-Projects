{
 "cells": [
  {
   "cell_type": "markdown",
   "id": "2f5ebf68",
   "metadata": {},
   "source": [
    "# Linear Regression Using Pyspark "
   ]
  },
  {
   "cell_type": "code",
   "execution_count": 7,
   "id": "66afda71",
   "metadata": {},
   "outputs": [],
   "source": [
    "from pyspark.sql import SparkSession "
   ]
  },
  {
   "cell_type": "code",
   "execution_count": null,
   "id": "433f2170",
   "metadata": {},
   "outputs": [],
   "source": [
    " spark = SparkSession.builder.appName(\"cruise\").getOrCreate()"
   ]
  },
  {
   "cell_type": "code",
   "execution_count": null,
   "id": "ae95f400",
   "metadata": {},
   "outputs": [],
   "source": [
    " "
   ]
  },
  {
   "cell_type": "code",
   "execution_count": null,
   "id": "8b2857d6",
   "metadata": {},
   "outputs": [],
   "source": []
  }
 ],
 "metadata": {
  "kernelspec": {
   "display_name": "Python 3 (ipykernel)",
   "language": "python",
   "name": "python3"
  },
  "language_info": {
   "codemirror_mode": {
    "name": "ipython",
    "version": 3
   },
   "file_extension": ".py",
   "mimetype": "text/x-python",
   "name": "python",
   "nbconvert_exporter": "python",
   "pygments_lexer": "ipython3",
   "version": "3.10.9"
  }
 },
 "nbformat": 4,
 "nbformat_minor": 5
}
