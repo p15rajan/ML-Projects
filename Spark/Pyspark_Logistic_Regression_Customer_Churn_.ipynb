{
  "nbformat": 4,
  "nbformat_minor": 0,
  "metadata": {
    "colab": {
      "provenance": []
    },
    "kernelspec": {
      "name": "python3",
      "display_name": "Python 3"
    },
    "language_info": {
      "name": "python"
    }
  },
  "cells": [
    {
      "cell_type": "code",
      "execution_count": 1,
      "metadata": {
        "colab": {
          "base_uri": "https://localhost:8080/"
        },
        "id": "gJLEKyTTXXpA",
        "outputId": "42f2bf30-c9d0-41e1-8370-1673ab568dde"
      },
      "outputs": [
        {
          "output_type": "stream",
          "name": "stdout",
          "text": [
            "Looking in indexes: https://pypi.org/simple, https://us-python.pkg.dev/colab-wheels/public/simple/\n",
            "Requirement already satisfied: pyspark in /usr/local/lib/python3.10/dist-packages (3.4.0)\n",
            "Requirement already satisfied: py4j==0.10.9.7 in /usr/local/lib/python3.10/dist-packages (from pyspark) (0.10.9.7)\n"
          ]
        }
      ],
      "source": [
        "!pip install pyspark"
      ]
    },
    {
      "cell_type": "code",
      "source": [
        "from pyspark.sql import SparkSession"
      ],
      "metadata": {
        "id": "eZNNBCErZDGf"
      },
      "execution_count": 2,
      "outputs": []
    },
    {
      "cell_type": "code",
      "source": [
        "from pyspark.ml.classification import LogisticRegression"
      ],
      "metadata": {
        "id": "QE8aUZVwazYp"
      },
      "execution_count": 3,
      "outputs": []
    },
    {
      "cell_type": "code",
      "source": [
        "from pyspark import SparkContext\n",
        "from pyspark.sql import SparkSession, Row\n",
        "from pyspark.ml.linalg import SparseVector"
      ],
      "metadata": {
        "id": "qQckXmcybkfh"
      },
      "execution_count": 4,
      "outputs": []
    },
    {
      "cell_type": "code",
      "source": [
        "spark = SparkSession.builder.appName(\"Customer_Churn\").getOrCreate()"
      ],
      "metadata": {
        "id": "RwcAUJJba9nX"
      },
      "execution_count": 10,
      "outputs": []
    },
    {
      "cell_type": "code",
      "source": [
        "df = spark.read.csv(\"/customer_churn.csv\", inferSchema=True, header=True)"
      ],
      "metadata": {
        "id": "F_i_cJDzkNZx"
      },
      "execution_count": 14,
      "outputs": []
    },
    {
      "cell_type": "code",
      "source": [
        "df.show()"
      ],
      "metadata": {
        "colab": {
          "base_uri": "https://localhost:8080/"
        },
        "id": "eqT2gJ6Vk7Pg",
        "outputId": "7d275c29-b4fa-476c-a241-217e19abf999"
      },
      "execution_count": 15,
      "outputs": [
        {
          "output_type": "stream",
          "name": "stdout",
          "text": [
            "+-------------------+----+--------------+---------------+-----+---------+-------------------+--------------------+--------------------+-----+\n",
            "|              Names| Age|Total_Purchase|Account_Manager|Years|Num_Sites|       Onboard_date|            Location|             Company|Churn|\n",
            "+-------------------+----+--------------+---------------+-----+---------+-------------------+--------------------+--------------------+-----+\n",
            "|   Cameron Williams|42.0|       11066.8|              0| 7.22|      8.0|2013-08-30 07:00:40|10265 Elizabeth M...|          Harvey LLC|    1|\n",
            "|      Kevin Mueller|41.0|      11916.22|              0|  6.5|     11.0|2013-08-13 00:38:46|6157 Frank Garden...|          Wilson PLC|    1|\n",
            "|        Eric Lozano|38.0|      12884.75|              0| 6.67|     12.0|2016-06-29 06:20:07|1331 Keith Court ...|Miller, Johnson a...|    1|\n",
            "|      Phillip White|42.0|       8010.76|              0| 6.71|     10.0|2014-04-22 12:43:12|13120 Daniel Moun...|           Smith Inc|    1|\n",
            "|     Cynthia Norton|37.0|       9191.58|              0| 5.56|      9.0|2016-01-19 15:31:15|765 Tricia Row Ka...|          Love-Jones|    1|\n",
            "|   Jessica Williams|48.0|      10356.02|              0| 5.12|      8.0|2009-03-03 23:13:37|6187 Olson Mounta...|        Kelly-Warren|    1|\n",
            "|        Eric Butler|44.0|      11331.58|              1| 5.23|     11.0|2016-12-05 03:35:43|4846 Savannah Roa...|   Reynolds-Sheppard|    1|\n",
            "|      Zachary Walsh|32.0|       9885.12|              1| 6.92|      9.0|2006-03-09 14:50:20|25271 Roy Express...|          Singh-Cole|    1|\n",
            "|        Ashlee Carr|43.0|       14062.6|              1| 5.46|     11.0|2011-09-29 05:47:23|3725 Caroline Str...|           Lopez PLC|    1|\n",
            "|     Jennifer Lynch|40.0|       8066.94|              1| 7.11|     11.0|2006-03-28 15:42:45|363 Sandra Lodge ...|       Reed-Martinez|    1|\n",
            "|       Paula Harris|30.0|      11575.37|              1| 5.22|      8.0|2016-11-13 13:13:01|Unit 8120 Box 916...|Briggs, Lamb and ...|    1|\n",
            "|     Bruce Phillips|45.0|       8771.02|              1| 6.64|     11.0|2015-05-28 12:14:03|Unit 1895 Box 094...|    Figueroa-Maynard|    1|\n",
            "|       Craig Garner|45.0|       8988.67|              1| 4.84|     11.0|2011-02-16 08:10:47|897 Kelley Overpa...|     Abbott-Thompson|    1|\n",
            "|       Nicole Olson|40.0|       8283.32|              1|  5.1|     13.0|2012-11-22 05:35:03|11488 Weaver Cape...|Smith, Kim and Ma...|    1|\n",
            "|     Harold Griffin|41.0|       6569.87|              1|  4.3|     11.0|2015-03-28 02:13:44|1774 Peter Row Ap...|Snyder, Lee and M...|    1|\n",
            "|       James Wright|38.0|      10494.82|              1| 6.81|     12.0|2015-07-22 08:38:40|45408 David Path ...|      Sanders-Pierce|    1|\n",
            "|      Doris Wilkins|45.0|       8213.41|              1| 7.35|     11.0|2006-09-03 06:13:55|28216 Wright Moun...|Andrews, Adams an...|    1|\n",
            "|Katherine Carpenter|43.0|      11226.88|              0| 8.08|     12.0|2006-10-22 04:42:38|Unit 4948 Box 481...|Morgan, Phillips ...|    1|\n",
            "|     Lindsay Martin|53.0|       5515.09|              0| 6.85|      8.0|2015-10-07 00:27:10|69203 Crosby Divi...|      Villanueva LLC|    1|\n",
            "|        Kathy Curry|46.0|        8046.4|              1| 5.69|      8.0|2014-11-06 23:47:14|9569 Caldwell Cre...|Berry, Orr and Ca...|    1|\n",
            "+-------------------+----+--------------+---------------+-----+---------+-------------------+--------------------+--------------------+-----+\n",
            "only showing top 20 rows\n",
            "\n"
          ]
        }
      ]
    },
    {
      "cell_type": "code",
      "source": [
        "df.describe().show()"
      ],
      "metadata": {
        "colab": {
          "base_uri": "https://localhost:8080/"
        },
        "id": "S40GcdXhk7aX",
        "outputId": "e93b3b25-6d91-477c-8132-bed28fc6fd77"
      },
      "execution_count": 16,
      "outputs": [
        {
          "output_type": "stream",
          "name": "stdout",
          "text": [
            "+-------+-------------+-----------------+-----------------+------------------+-----------------+------------------+--------------------+--------------------+-------------------+\n",
            "|summary|        Names|              Age|   Total_Purchase|   Account_Manager|            Years|         Num_Sites|            Location|             Company|              Churn|\n",
            "+-------+-------------+-----------------+-----------------+------------------+-----------------+------------------+--------------------+--------------------+-------------------+\n",
            "|  count|          900|              900|              900|               900|              900|               900|                 900|                 900|                900|\n",
            "|   mean|         null|41.81666666666667|10062.82403333334|0.4811111111111111| 5.27315555555555| 8.587777777777777|                null|                null|0.16666666666666666|\n",
            "| stddev|         null|6.127560416916251|2408.644531858096|0.4999208935073339|1.274449013194616|1.7648355920350969|                null|                null| 0.3728852122772358|\n",
            "|    min|   Aaron King|             22.0|            100.0|                 0|              1.0|               3.0|00103 Jeffrey Cre...|     Abbott-Thompson|                  0|\n",
            "|    max|Zachary Walsh|             65.0|         18026.01|                 1|             9.15|              14.0|Unit 9800 Box 287...|Zuniga, Clark and...|                  1|\n",
            "+-------+-------------+-----------------+-----------------+------------------+-----------------+------------------+--------------------+--------------------+-------------------+\n",
            "\n"
          ]
        }
      ]
    },
    {
      "cell_type": "code",
      "source": [
        "df.columns"
      ],
      "metadata": {
        "colab": {
          "base_uri": "https://localhost:8080/"
        },
        "id": "YBRFsCe_k7eL",
        "outputId": "3cba5570-0a79-46e8-a4fa-53c0b51d9f17"
      },
      "execution_count": 17,
      "outputs": [
        {
          "output_type": "execute_result",
          "data": {
            "text/plain": [
              "['Names',\n",
              " 'Age',\n",
              " 'Total_Purchase',\n",
              " 'Account_Manager',\n",
              " 'Years',\n",
              " 'Num_Sites',\n",
              " 'Onboard_date',\n",
              " 'Location',\n",
              " 'Company',\n",
              " 'Churn']"
            ]
          },
          "metadata": {},
          "execution_count": 17
        }
      ]
    },
    {
      "cell_type": "code",
      "source": [
        "from pyspark.ml.feature import VectorAssembler"
      ],
      "metadata": {
        "id": "UNb7eW9Rk7g0"
      },
      "execution_count": 18,
      "outputs": []
    },
    {
      "cell_type": "code",
      "source": [
        "assembler = VectorAssembler(inputCols = ['Age',\n",
        " 'Total_Purchase',\n",
        " 'Account_Manager',\n",
        " 'Years',\n",
        " 'Num_Sites'], outputCol='features')\n",
        "                            \n",
        "\n"
      ],
      "metadata": {
        "id": "A2jlmcSXk7it"
      },
      "execution_count": 22,
      "outputs": []
    },
    {
      "cell_type": "code",
      "source": [
        "output = assembler.transform(df)"
      ],
      "metadata": {
        "id": "19aSYAxAk7lI"
      },
      "execution_count": 23,
      "outputs": []
    },
    {
      "cell_type": "code",
      "source": [
        "final_df = output.select('features', 'Churn')"
      ],
      "metadata": {
        "id": "jYcs6ptIrQf9"
      },
      "execution_count": 41,
      "outputs": []
    },
    {
      "cell_type": "code",
      "source": [
        "train_churn, test_churn = final_df.randomSplit([0.8, 0.2])"
      ],
      "metadata": {
        "id": "9k03eeSgk7oB"
      },
      "execution_count": 42,
      "outputs": []
    },
    {
      "cell_type": "code",
      "source": [
        "train_data.describe().show()"
      ],
      "metadata": {
        "colab": {
          "base_uri": "https://localhost:8080/"
        },
        "id": "JZwznTs1k7rU",
        "outputId": "7c258f67-543d-47d3-b0c2-e6a100b1c340"
      },
      "execution_count": 43,
      "outputs": [
        {
          "output_type": "stream",
          "name": "stdout",
          "text": [
            "+-------+-------------+-----------------+------------------+-------------------+------------------+------------------+--------------------+--------------------+-------------------+\n",
            "|summary|        Names|              Age|    Total_Purchase|    Account_Manager|             Years|         Num_Sites|            Location|             Company|              Churn|\n",
            "+-------+-------------+-----------------+------------------+-------------------+------------------+------------------+--------------------+--------------------+-------------------+\n",
            "|  count|          691|              691|               691|                691|               691|               691|                 691|                 691|                691|\n",
            "|   mean|         null|41.65846599131693| 9996.771910274962| 0.4703328509406657| 5.290217076700427| 8.619392185238784|                null|                null|0.16931982633863965|\n",
            "| stddev|         null|6.177964344386297|2420.5843184317705|0.49948063380119173|1.2589006403901104|1.7778427510376447|                null|                null| 0.3753058275986866|\n",
            "|    min|   Aaron King|             22.0|             100.0|                  0|               1.0|               3.0|00103 Jeffrey Cre...|     Abbott-Thompson|                  0|\n",
            "|    max|Zachary Walsh|             65.0|          16838.94|                  1|              8.97|              14.0|Unit 9800 Box 287...|Zuniga, Clark and...|                  1|\n",
            "+-------+-------------+-----------------+------------------+-------------------+------------------+------------------+--------------------+--------------------+-------------------+\n",
            "\n"
          ]
        }
      ]
    },
    {
      "cell_type": "code",
      "source": [
        "logreg_churn = LogisticRegression(labelCol='Churn')"
      ],
      "metadata": {
        "id": "BwdPqPFnk7tX"
      },
      "execution_count": 44,
      "outputs": []
    },
    {
      "cell_type": "code",
      "source": [
        "fitted_churn_model = logreg_churn.fit(train_churn)"
      ],
      "metadata": {
        "id": "wINpzjWPnXDj"
      },
      "execution_count": 45,
      "outputs": []
    },
    {
      "cell_type": "code",
      "source": [
        "training_sum = fitted_churn_model.summary"
      ],
      "metadata": {
        "id": "I6McYbvJrsb3"
      },
      "execution_count": 47,
      "outputs": []
    },
    {
      "cell_type": "code",
      "source": [
        "training_sum.predictions.show()"
      ],
      "metadata": {
        "colab": {
          "base_uri": "https://localhost:8080/"
        },
        "id": "WYvkFKdar8MA",
        "outputId": "828f04e2-7f53-4a0a-c5bc-1c881fe358ac"
      },
      "execution_count": 50,
      "outputs": [
        {
          "output_type": "stream",
          "name": "stdout",
          "text": [
            "+--------------------+-----+--------------------+--------------------+----------+\n",
            "|            features|Churn|       rawPrediction|         probability|prediction|\n",
            "+--------------------+-----+--------------------+--------------------+----------+\n",
            "|[22.0,11254.38,1....|  0.0|[4.42259090198430...|[0.98813927229409...|       0.0|\n",
            "|[26.0,8787.39,1.0...|  1.0|[0.35773460082820...|[0.58849193439647...|       0.0|\n",
            "|[26.0,8939.61,0.0...|  0.0|[6.22562476879801...|[0.99802581752402...|       0.0|\n",
            "|[27.0,8628.8,1.0,...|  0.0|[5.21538675556810...|[0.99459701870319...|       0.0|\n",
            "|[28.0,8670.98,0.0...|  0.0|[7.64950866301965...|[0.99952394864824...|       0.0|\n",
            "|[28.0,9090.43,1.0...|  0.0|[1.26459460089423...|[0.77981602865829...|       0.0|\n",
            "|[28.0,11128.95,1....|  0.0|[3.99965359294880...|[0.98200767053020...|       0.0|\n",
            "|[28.0,11204.23,0....|  0.0|[1.72964542540314...|[0.84936706065762...|       0.0|\n",
            "|[28.0,11245.38,0....|  0.0|[3.59003252430540...|[0.97314373125130...|       0.0|\n",
            "|[29.0,5900.78,1.0...|  0.0|[3.80322021787699...|[0.97818754370584...|       0.0|\n",
            "|[29.0,8688.17,1.0...|  1.0|[2.45111740414311...|[0.92064312602933...|       0.0|\n",
            "|[29.0,9378.24,0.0...|  0.0|[4.61340725709992...|[0.99017943246465...|       0.0|\n",
            "|[29.0,9617.59,0.0...|  0.0|[4.28342015189636...|[0.98639232436503...|       0.0|\n",
            "|[29.0,10203.18,1....|  0.0|[3.55844874608719...|[0.97230583734911...|       0.0|\n",
            "|[29.0,11274.46,1....|  0.0|[4.34114172555139...|[0.98714573126176...|       0.0|\n",
            "|[29.0,13240.01,1....|  0.0|[6.63125226502375...|[0.99868322525524...|       0.0|\n",
            "|[29.0,13255.05,1....|  0.0|[4.03110777547087...|[0.98255507761775...|       0.0|\n",
            "|[30.0,6744.87,0.0...|  0.0|[3.28365081967379...|[0.96386365908774...|       0.0|\n",
            "|[30.0,7960.64,1.0...|  1.0|[2.92968776392897...|[0.94929464790621...|       0.0|\n",
            "|[30.0,8677.28,1.0...|  0.0|[3.88223287670761...|[0.97981121922453...|       0.0|\n",
            "+--------------------+-----+--------------------+--------------------+----------+\n",
            "only showing top 20 rows\n",
            "\n"
          ]
        }
      ]
    },
    {
      "cell_type": "code",
      "source": [
        "training_sum.predictions.describe().show()"
      ],
      "metadata": {
        "colab": {
          "base_uri": "https://localhost:8080/"
        },
        "id": "PQ1rwd_Kr8PC",
        "outputId": "3df695eb-d0c4-459a-b441-21dbe9f2e84c"
      },
      "execution_count": 52,
      "outputs": [
        {
          "output_type": "stream",
          "name": "stdout",
          "text": [
            "+-------+-------------------+------------------+\n",
            "|summary|              Churn|        prediction|\n",
            "+-------+-------------------+------------------+\n",
            "|  count|                730|               730|\n",
            "|   mean| 0.1821917808219178|0.1410958904109589|\n",
            "| stddev|0.38626716475271006|0.3483591230094471|\n",
            "|    min|                0.0|               0.0|\n",
            "|    max|                1.0|               1.0|\n",
            "+-------+-------------------+------------------+\n",
            "\n"
          ]
        }
      ]
    },
    {
      "cell_type": "code",
      "source": [
        "from pyspark.ml.evaluation import BinaryClassificationEvaluator"
      ],
      "metadata": {
        "id": "GqT5jzVor8R6"
      },
      "execution_count": 61,
      "outputs": []
    },
    {
      "cell_type": "code",
      "source": [
        "pred_and_labels = fitted_churn_model.evaluate(test_churn)"
      ],
      "metadata": {
        "id": "vgxTY3xKr8Ux"
      },
      "execution_count": 66,
      "outputs": []
    },
    {
      "cell_type": "code",
      "source": [
        "pred_and_labels.predictions.show()"
      ],
      "metadata": {
        "colab": {
          "base_uri": "https://localhost:8080/"
        },
        "id": "tecIKHTLs7tY",
        "outputId": "f85acef8-22f1-463c-894e-fabcb8562d29"
      },
      "execution_count": 67,
      "outputs": [
        {
          "output_type": "stream",
          "name": "stdout",
          "text": [
            "+--------------------+-----+--------------------+--------------------+----------+\n",
            "|            features|Churn|       rawPrediction|         probability|prediction|\n",
            "+--------------------+-----+--------------------+--------------------+----------+\n",
            "|[25.0,9672.03,0.0...|    0|[4.50415711806775...|[0.98905813786093...|       0.0|\n",
            "|[29.0,12711.15,0....|    0|[5.28087595432415...|[0.99493778440220...|       0.0|\n",
            "|[30.0,8403.78,1.0...|    0|[5.73237060295724...|[0.99677107093729...|       0.0|\n",
            "|[30.0,8874.83,0.0...|    0|[2.99355072695174...|[0.95228191833065...|       0.0|\n",
            "|[31.0,5387.75,0.0...|    0|[2.27774315230273...|[0.90701688530133...|       0.0|\n",
            "|[31.0,10182.6,1.0...|    0|[4.63678229579255...|[0.99040414921106...|       0.0|\n",
            "|[31.0,11743.24,0....|    0|[6.65624462744702...|[0.99871568498869...|       0.0|\n",
            "|[32.0,10716.75,0....|    0|[4.3075354393822,...|[0.98671224397726...|       0.0|\n",
            "|[32.0,11540.86,0....|    0|[6.72899320382586...|[0.99880569186252...|       0.0|\n",
            "|[32.0,11715.72,0....|    0|[3.30186318028375...|[0.96449267348630...|       0.0|\n",
            "|[32.0,12142.99,0....|    0|[5.55018890822155...|[0.99612832518711...|       0.0|\n",
            "|[32.0,12254.75,1....|    0|[2.42712832441309...|[0.91887271921152...|       0.0|\n",
            "|[33.0,5738.82,0.0...|    0|[4.09781144576983...|[0.98366236620068...|       0.0|\n",
            "|[33.0,8556.73,0.0...|    0|[3.61695458761465...|[0.97383844836309...|       0.0|\n",
            "|[33.0,12249.96,0....|    0|[5.47119802627774...|[0.99581142791793...|       0.0|\n",
            "|[33.0,12638.51,1....|    0|[3.75305947958014...|[0.97709121345575...|       0.0|\n",
            "|[33.0,13314.19,0....|    0|[2.79391490579368...|[0.94234610994052...|       0.0|\n",
            "|[34.0,8772.26,0.0...|    0|[2.64628162558434...|[0.93378144032202...|       0.0|\n",
            "|[34.0,9265.59,0.0...|    0|[3.85132304287400...|[0.97919063134969...|       0.0|\n",
            "|[34.0,9779.12,0.0...|    0|[2.56049381835197...|[0.92827534323018...|       0.0|\n",
            "+--------------------+-----+--------------------+--------------------+----------+\n",
            "only showing top 20 rows\n",
            "\n"
          ]
        }
      ]
    },
    {
      "cell_type": "code",
      "source": [
        "churn_eval =  BinaryClassificationEvaluator(labelCol='Churn')"
      ],
      "metadata": {
        "id": "j_QXBN0ItK1h"
      },
      "execution_count": 78,
      "outputs": []
    },
    {
      "cell_type": "code",
      "source": [
        "import matplotlib.pyplot as plt"
      ],
      "metadata": {
        "id": "2kK_O6BS6H6x"
      },
      "execution_count": 121,
      "outputs": []
    },
    {
      "cell_type": "code",
      "source": [
        "results = pred_and_labels.predictions.select(['probability', 'prediction']).collect()"
      ],
      "metadata": {
        "id": "q_h-4kHK6PMI"
      },
      "execution_count": 125,
      "outputs": []
    },
    {
      "cell_type": "code",
      "source": [
        "auc = churn_eval.evaluate(pred_and_labels.predictions)    "
      ],
      "metadata": {
        "id": "htRpEUd-uqRR"
      },
      "execution_count": 79,
      "outputs": []
    },
    {
      "cell_type": "code",
      "source": [
        "import matplotlib.pyplot as plt\n",
        "plt.figure(figsize=(5,5))\n",
        "plt.plot([0, 1], [0, 1], 'r--')\n",
        "plt.plot(fitted_churn_model.summary.roc.select('FPR').collect(),\n",
        "         fitted_churn_model.summary.roc.select('TPR').collect())\n",
        "plt.xlabel('False Postive Rate')\n",
        "plt.ylabel('True Positive Rate')\n",
        "plt.show()"
      ],
      "metadata": {
        "colab": {
          "base_uri": "https://localhost:8080/",
          "height": 465
        },
        "id": "kx3IhNFH6wtd",
        "outputId": "52a1f14b-77f2-4c48-ae93-4f8a43131089"
      },
      "execution_count": 135,
      "outputs": [
        {
          "output_type": "display_data",
          "data": {
            "text/plain": [
              "<Figure size 500x500 with 1 Axes>"
            ],
            "image/png": "[encoded data removed]"
          },
          "metadata": {}
        }
      ]
    },
    {
      "cell_type": "code",
      "source": [
        "auc"
      ],
      "metadata": {
        "colab": {
          "base_uri": "https://localhost:8080/"
        },
        "id": "0ineUqTzxZzM",
        "outputId": "6cba69ec-22a7-4210-943f-41db92a9c073"
      },
      "execution_count": 80,
      "outputs": [
        {
          "output_type": "execute_result",
          "data": {
            "text/plain": [
              "0.9257977700884275"
            ]
          },
          "metadata": {},
          "execution_count": 80
        }
      ]
    },
    {
      "cell_type": "code",
      "source": [
        "final_logreg_model = logreg_churn.fit(final_df)"
      ],
      "metadata": {
        "id": "9IlP5KNx0t4p"
      },
      "execution_count": 81,
      "outputs": []
    },
    {
      "cell_type": "code",
      "source": [
        "new_customers = spark.read.csv(\"/content/sample_data/new_customers.csv\", inferSchema=True, header=True)"
      ],
      "metadata": {
        "id": "cV4QUeBG0uB4"
      },
      "execution_count": 104,
      "outputs": []
    },
    {
      "cell_type": "code",
      "source": [
        "new_customers.show()"
      ],
      "metadata": {
        "colab": {
          "base_uri": "https://localhost:8080/"
        },
        "id": "umjMKMA-0uE0",
        "outputId": "531d5a97-32e6-409d-8bb8-f83b648e6745"
      },
      "execution_count": 105,
      "outputs": [
        {
          "output_type": "stream",
          "name": "stdout",
          "text": [
            "+----------------+---+--------------+---------------+-----+---------+----------------+-------------+-------+\n",
            "|           Names|Age|Total_Purchase|Account_Manager|Years|Num_Sites|    Onboard_date|     Location|Company|\n",
            "+----------------+---+--------------+---------------+-----+---------+----------------+-------------+-------+\n",
            "|Willamson Meyers| 35|       15000.0|              0|  1.0|        8|01-05-2018 00:00|          USA|    LSG|\n",
            "|    Bill Clinton| 33|      200000.0|              1|  2.0|       11|31-05-2018 00:00|          USA|    KKR|\n",
            "|     Jose Butler| 38|      12884.75|              0|  1.0|       12|01-07-2017 00:00|       London|     RR|\n",
            "|     Ian Chappel| 55|       90000.0|              0|  1.0|       10|04-12-2016 00:00|    Australia|     GT|\n",
            "|   Kagiso Rabada| 37|        1000.0|              0| 5.56|        9|23-08-2019 00:00|South Africa |   PBKS|\n",
            "|     Sam Curran | 48|      10356.02|              0| 5.12|        8|08-08-2018 00:00|       London|     MI|\n",
            "| Henrick Klassen| 44|      11331.58|              1| 5.23|       11|09-10-2015 00:00|South Africa |    SRH|\n",
            "|    Devon Conway| 32|       9885.12|              1| 6.92|        9|08-05-2018 00:00|  New Zealand|    CSK|\n",
            "|    Trent Boult | 43|       14062.6|              1| 5.46|       11|09-05-2018 00:00|  New Zealand|     RR|\n",
            "+----------------+---+--------------+---------------+-----+---------+----------------+-------------+-------+\n",
            "\n"
          ]
        }
      ]
    },
    {
      "cell_type": "code",
      "source": [
        "new_customers.printSchema()"
      ],
      "metadata": {
        "colab": {
          "base_uri": "https://localhost:8080/"
        },
        "id": "n8CvBTp93dCy",
        "outputId": "55d30f81-c8ae-4996-9173-62a0980e8001"
      },
      "execution_count": 106,
      "outputs": [
        {
          "output_type": "stream",
          "name": "stdout",
          "text": [
            "root\n",
            " |-- Names: string (nullable = true)\n",
            " |-- Age: integer (nullable = true)\n",
            " |-- Total_Purchase: double (nullable = true)\n",
            " |-- Account_Manager: integer (nullable = true)\n",
            " |-- Years: double (nullable = true)\n",
            " |-- Num_Sites: integer (nullable = true)\n",
            " |-- Onboard_date: string (nullable = true)\n",
            " |-- Location: string (nullable = true)\n",
            " |-- Company: string (nullable = true)\n",
            "\n"
          ]
        }
      ]
    },
    {
      "cell_type": "code",
      "source": [
        "test_new_customers = assembler.transform(new_customers)"
      ],
      "metadata": {
        "id": "BN8IOlbr3lna"
      },
      "execution_count": 107,
      "outputs": []
    },
    {
      "cell_type": "code",
      "source": [
        "test_new_customers.show()"
      ],
      "metadata": {
        "colab": {
          "base_uri": "https://localhost:8080/"
        },
        "id": "Ut9h8cxa3vDh",
        "outputId": "08fa7b0d-379e-4e32-b926-2a2b87b72d0f"
      },
      "execution_count": 108,
      "outputs": [
        {
          "output_type": "stream",
          "name": "stdout",
          "text": [
            "+----------------+---+--------------+---------------+-----+---------+----------------+-------------+-------+--------------------+\n",
            "|           Names|Age|Total_Purchase|Account_Manager|Years|Num_Sites|    Onboard_date|     Location|Company|            features|\n",
            "+----------------+---+--------------+---------------+-----+---------+----------------+-------------+-------+--------------------+\n",
            "|Willamson Meyers| 35|       15000.0|              0|  1.0|        8|01-05-2018 00:00|          USA|    LSG|[35.0,15000.0,0.0...|\n",
            "|    Bill Clinton| 33|      200000.0|              1|  2.0|       11|31-05-2018 00:00|          USA|    KKR|[33.0,200000.0,1....|\n",
            "|     Jose Butler| 38|      12884.75|              0|  1.0|       12|01-07-2017 00:00|       London|     RR|[38.0,12884.75,0....|\n",
            "|     Ian Chappel| 55|       90000.0|              0|  1.0|       10|04-12-2016 00:00|    Australia|     GT|[55.0,90000.0,0.0...|\n",
            "|   Kagiso Rabada| 37|        1000.0|              0| 5.56|        9|23-08-2019 00:00|South Africa |   PBKS|[37.0,1000.0,0.0,...|\n",
            "|     Sam Curran | 48|      10356.02|              0| 5.12|        8|08-08-2018 00:00|       London|     MI|[48.0,10356.02,0....|\n",
            "| Henrick Klassen| 44|      11331.58|              1| 5.23|       11|09-10-2015 00:00|South Africa |    SRH|[44.0,11331.58,1....|\n",
            "|    Devon Conway| 32|       9885.12|              1| 6.92|        9|08-05-2018 00:00|  New Zealand|    CSK|[32.0,9885.12,1.0...|\n",
            "|    Trent Boult | 43|       14062.6|              1| 5.46|       11|09-05-2018 00:00|  New Zealand|     RR|[43.0,14062.6,1.0...|\n",
            "+----------------+---+--------------+---------------+-----+---------+----------------+-------------+-------+--------------------+\n",
            "\n"
          ]
        }
      ]
    },
    {
      "cell_type": "code",
      "source": [
        "final_new_cus_model = final_logreg_model.transform(test_new_customers)"
      ],
      "metadata": {
        "id": "Z01_S3gE36M8"
      },
      "execution_count": 110,
      "outputs": []
    },
    {
      "cell_type": "code",
      "source": [
        "final_new_cus_model.summary().show()"
      ],
      "metadata": {
        "colab": {
          "base_uri": "https://localhost:8080/"
        },
        "id": "KKh6GX3z8w2K",
        "outputId": "82a880c0-ac88-4961-b1b4-35d6b13bd071"
      },
      "execution_count": 139,
      "outputs": [
        {
          "output_type": "stream",
          "name": "stdout",
          "text": [
            "+-------+----------------+------------------+----------------+------------------+-----------------+-----------------+----------------+---------+-------+------------------+\n",
            "|summary|           Names|               Age|  Total_Purchase|   Account_Manager|            Years|        Num_Sites|    Onboard_date| Location|Company|        prediction|\n",
            "+-------+----------------+------------------+----------------+------------------+-----------------+-----------------+----------------+---------+-------+------------------+\n",
            "|  count|               9|                 9|               9|                 9|                9|                9|               9|        9|      9|                 9|\n",
            "|   mean|            null| 40.55555555555556|        40502.23|0.4444444444444444|3.698888888888889| 9.88888888888889|            null|     null|   null|0.3333333333333333|\n",
            "| stddev|            null|7.6011695006609195|65440.1112081856|0.5270462766947299|2.399033370153719|1.452966314513558|            null|     null|   null|               0.5|\n",
            "|    min|    Bill Clinton|                32|          1000.0|                 0|              1.0|                8|01-05-2018 00:00|Australia|    CSK|               0.0|\n",
            "|    25%|            null|                35|        10356.02|                 0|              1.0|                9|            null|     null|   null|               0.0|\n",
            "|    50%|            null|                38|        12884.75|                 0|             5.12|               10|            null|     null|   null|               0.0|\n",
            "|    75%|            null|                44|         15000.0|                 1|             5.46|               11|            null|     null|   null|               1.0|\n",
            "|    max|Willamson Meyers|                55|        200000.0|                 1|             6.92|               12|31-05-2018 00:00|      USA|    SRH|               1.0|\n",
            "+-------+----------------+------------------+----------------+------------------+-----------------+-----------------+----------------+---------+-------+------------------+\n",
            "\n"
          ]
        }
      ]
    },
    {
      "cell_type": "code",
      "source": [
        "final_new_cus_model.show()"
      ],
      "metadata": {
        "colab": {
          "base_uri": "https://localhost:8080/"
        },
        "id": "LTcdjAWg4Oji",
        "outputId": "7466fe06-3450-4679-e48e-5b97d848d679"
      },
      "execution_count": 111,
      "outputs": [
        {
          "output_type": "stream",
          "name": "stdout",
          "text": [
            "+----------------+---+--------------+---------------+-----+---------+----------------+-------------+-------+--------------------+--------------------+--------------------+----------+\n",
            "|           Names|Age|Total_Purchase|Account_Manager|Years|Num_Sites|    Onboard_date|     Location|Company|            features|       rawPrediction|         probability|prediction|\n",
            "+----------------+---+--------------+---------------+-----+---------+----------------+-------------+-------+--------------------+--------------------+--------------------+----------+\n",
            "|Willamson Meyers| 35|       15000.0|              0|  1.0|        8|01-05-2018 00:00|          USA|    LSG|[35.0,15000.0,0.0...|[6.43104873024888...|[0.99839182968261...|       0.0|\n",
            "|    Bill Clinton| 33|      200000.0|              1|  2.0|       11|31-05-2018 00:00|          USA|    KKR|[33.0,200000.0,1....|[-5.0338848720039...|[0.00647130682582...|       1.0|\n",
            "|     Jose Butler| 38|      12884.75|              0|  1.0|       12|01-07-2017 00:00|       London|     RR|[38.0,12884.75,0....|[1.48426206088001...|[0.81521547689862...|       0.0|\n",
            "|     Ian Chappel| 55|       90000.0|              0|  1.0|       10|04-12-2016 00:00|    Australia|     GT|[55.0,90000.0,0.0...|[0.01329626693756...|[0.50332401776324...|       0.0|\n",
            "|   Kagiso Rabada| 37|        1000.0|              0| 5.56|        9|23-08-2019 00:00|South Africa |   PBKS|[37.0,1000.0,0.0,...|[3.04134752649416...|[0.95440750116224...|       0.0|\n",
            "|     Sam Curran | 48|      10356.02|              0| 5.12|        8|08-08-2018 00:00|       London|     MI|[48.0,10356.02,0....|[3.49497806888865...|[0.97054454186844...|       0.0|\n",
            "| Henrick Klassen| 44|      11331.58|              1| 5.23|       11|09-10-2015 00:00|South Africa |    SRH|[44.0,11331.58,1....|[-0.4801265197406...|[0.38222224988148...|       1.0|\n",
            "|    Devon Conway| 32|       9885.12|              1| 6.92|        9|08-05-2018 00:00|  New Zealand|    CSK|[32.0,9885.12,1.0...|[1.7581579744521,...|[0.85297880937975...|       0.0|\n",
            "|    Trent Boult | 43|       14062.6|              1| 5.46|       11|09-05-2018 00:00|  New Zealand|     RR|[43.0,14062.6,1.0...|[-0.6523986627653...|[0.34244920790950...|       1.0|\n",
            "+----------------+---+--------------+---------------+-----+---------+----------------+-------------+-------+--------------------+--------------------+--------------------+----------+\n",
            "\n"
          ]
        }
      ]
    },
    {
      "cell_type": "code",
      "source": [
        "final_new_cus_model.select(\"Company\", \"prediction\").show()"
      ],
      "metadata": {
        "colab": {
          "base_uri": "https://localhost:8080/"
        },
        "id": "Tda11OYG4gW7",
        "outputId": "3ea0842a-e9cc-4ea2-ca5a-74b6f979cd79"
      },
      "execution_count": 120,
      "outputs": [
        {
          "output_type": "stream",
          "name": "stdout",
          "text": [
            "+-------+----------+\n",
            "|Company|prediction|\n",
            "+-------+----------+\n",
            "|    LSG|       0.0|\n",
            "|    KKR|       1.0|\n",
            "|     RR|       0.0|\n",
            "|     GT|       0.0|\n",
            "|   PBKS|       0.0|\n",
            "|     MI|       0.0|\n",
            "|    SRH|       1.0|\n",
            "|    CSK|       0.0|\n",
            "|     RR|       1.0|\n",
            "+-------+----------+\n",
            "\n"
          ]
        }
      ]
    }
  ]
}